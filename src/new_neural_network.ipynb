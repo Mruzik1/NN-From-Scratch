{
 "cells": [
  {
   "cell_type": "code",
   "execution_count": 149,
   "metadata": {},
   "outputs": [],
   "source": [
    "import numpy as np\n",
    "from numpy import ndarray\n",
    "from sklearn.datasets import make_blobs\n",
    "from sklearn.model_selection import train_test_split\n",
    "from sklearn.preprocessing import OneHotEncoder\n",
    "import matplotlib.pyplot as plt"
   ]
  },
  {
   "cell_type": "code",
   "execution_count": 150,
   "metadata": {},
   "outputs": [],
   "source": [
    "class Layer:\n",
    "    def __init__(self):\n",
    "        pass\n",
    "\n",
    "    def forward(self, inp: ndarray):\n",
    "        pass\n",
    "\n",
    "    def backward(self, inp: ndarray):\n",
    "        pass"
   ]
  },
  {
   "cell_type": "code",
   "execution_count": 151,
   "metadata": {},
   "outputs": [],
   "source": [
    "class Loss:\n",
    "    def __init__(self):\n",
    "        pass\n",
    "\n",
    "    def __call__(self, y_hat: ndarray, y: ndarray):\n",
    "        pass\n",
    "\n",
    "    def der(self, y: float, y_hat: float, N: int):\n",
    "        pass"
   ]
  },
  {
   "cell_type": "code",
   "execution_count": 152,
   "metadata": {},
   "outputs": [],
   "source": [
    "class CrossEntropyLoss(Loss):\n",
    "    def __init__(self):\n",
    "        pass\n",
    "\n",
    "    def __call__(self, y_hat: ndarray, y: ndarray) -> float:\n",
    "        return -1/len(y)*np.sum(y*np.log(y_hat+1e-20))\n",
    "\n",
    "    def der(self, y: ndarray, y_hat: ndarray, N: int) -> ndarray:\n",
    "        return -1/N*y/(y_hat+1e-20)"
   ]
  },
  {
   "cell_type": "code",
   "execution_count": 153,
   "metadata": {},
   "outputs": [],
   "source": [
    "class ReLU(Layer):\n",
    "    def __init__(self):\n",
    "        pass\n",
    "\n",
    "    def forward(self, inp: ndarray) -> ndarray:\n",
    "        return np.where(inp > 0, inp, 0)\n",
    "\n",
    "    def backward(self, inp: ndarray) -> ndarray:\n",
    "        return np.where(inp > 0, 1, 0)"
   ]
  },
  {
   "cell_type": "code",
   "execution_count": 154,
   "metadata": {},
   "outputs": [],
   "source": [
    "class Sigmoid(Layer):\n",
    "    def __init__(self):\n",
    "        pass\n",
    "\n",
    "    def forward(self, inp: ndarray) -> ndarray:\n",
    "        return 1/(1+np.exp(-inp))\n",
    "\n",
    "    def backward(self, inp: ndarray) -> ndarray:\n",
    "        return self.forward(inp)*(1-self.forward(inp))"
   ]
  },
  {
   "cell_type": "code",
   "execution_count": 155,
   "metadata": {},
   "outputs": [],
   "source": [
    "class Dense(Layer):\n",
    "    def __init__(self, inp_units: int, outp_units: int, learning_rate: float = 0.1):\n",
    "        self.w = np.random.normal(size=(inp_units, outp_units))\n",
    "        self.b = np.zeros(outp_units)\n",
    "        self.lr = learning_rate\n",
    "\n",
    "    def forward(self, inp: ndarray) -> ndarray:\n",
    "        return np.dot(inp, self.w) + self.b\n",
    "\n",
    "    def backward(self, inp: ndarray) -> ndarray:\n",
    "        pass"
   ]
  },
  {
   "cell_type": "code",
   "execution_count": 156,
   "metadata": {},
   "outputs": [],
   "source": [
    "class MLP:\n",
    "    def __init__(self):\n",
    "        self.layers = []\n",
    "\n",
    "    # adds a dense layer with the input and output shapes\n",
    "    def _add_dense(self, out_shape: int, inp_shape: int):\n",
    "        if inp_shape:\n",
    "            self.layers.append(Dense(inp_shape, out_shape))\n",
    "        elif self.layers:\n",
    "            self.layers.append(Dense(len(self.layers[-2].b), out_shape))\n",
    "        else:\n",
    "            raise AttributeError('No input shape!')\n",
    "\n",
    "    # adds an activation layer\n",
    "    def _add_activation(self, activation: str):\n",
    "        if activation.lower() == 'sigmoid':\n",
    "            self.layers.append(Sigmoid())\n",
    "        elif activation.lower() == 'relu':\n",
    "            self.layers.append(ReLU())\n",
    "        else:\n",
    "            raise AttributeError('No activation!')\n",
    "\n",
    "    # combination of two methods above\n",
    "    def add_layer(self, out_shape: int, inp_shape: int = None, activation: str = 'sigmoid'):\n",
    "        self._add_dense(out_shape, inp_shape)\n",
    "        self._add_activation(activation)\n",
    "\n",
    "    # performs forward pass\n",
    "    def forward(self, X: ndarray) -> ndarray:\n",
    "        outputs = [X]\n",
    "\n",
    "        for layer in self.layers:\n",
    "            X = layer.forward(X)\n",
    "            outputs.append(X)\n",
    "\n",
    "        return np.array(outputs)\n",
    "\n",
    "    # predicts classes\n",
    "    def predict(self, X: ndarray) -> ndarray:\n",
    "        return np.argmax(self.forward(X)[-1], axis=1)\n",
    "\n",
    "    # backpropagation cycle\n",
    "    def backward(self, preds: ndarray, criterion: Loss):\n",
    "        grad = []\n",
    "        for n, layer in enumerate(self.layers):\n",
    "            layer.backward(preds[n])\n",
    "\n",
    "    # training method\n",
    "    def fit(self, X: ndarray, y: ndarray, criterion: Loss) -> ndarray:\n",
    "        preds = self.forward(X)\n",
    "        loss = criterion(preds, y)\n",
    "\n",
    "        return loss\n",
    "        "
   ]
  },
  {
   "cell_type": "code",
   "execution_count": 157,
   "metadata": {},
   "outputs": [],
   "source": [
    "X, y = make_blobs(n_samples=300, centers=3)\n",
    "\n",
    "onehot = OneHotEncoder(sparse=False)\n",
    "y = onehot.fit_transform(y.reshape(-1, 1))\n",
    "\n",
    "X_train, X_test, y_train, y_test = train_test_split(X, y, test_size=0.2)"
   ]
  },
  {
   "cell_type": "code",
   "execution_count": 158,
   "metadata": {},
   "outputs": [
    {
     "data": {
      "image/png": "[encoded data removed]",
      "text/plain": [
       "<Figure size 720x648 with 1 Axes>"
      ]
     },
     "metadata": {
      "needs_background": "light"
     },
     "output_type": "display_data"
    }
   ],
   "source": [
    "fig, ax = plt.subplots()\n",
    "fig.set_figwidth(10)\n",
    "fig.set_figheight(9)\n",
    "ax.scatter(X_train[:, 0], X_train[:, 1], c=y_train)\n",
    "plt.show()"
   ]
  },
  {
   "cell_type": "code",
   "execution_count": 171,
   "metadata": {},
   "outputs": [
    {
     "name": "stdout",
     "output_type": "stream",
     "text": [
      "[1 1 1 1 1 1 1 1 1 1 1 1 1 1 1 1 1 1 1 1 1 1 1 1 1 1 1 1 1 1 1 1 1 1 1 1 1\n",
      " 1 1 1 1 1 1 1 1 1 1 1 1 1 1 1 1 1 1 1 1 1 1 1]\n",
      "10.762287079886093\n"
     ]
    }
   ],
   "source": [
    "network = MLP()\n",
    "criterion = CrossEntropyLoss()\n",
    "\n",
    "network.add_layer(6, inp_shape=2, activation='relu')\n",
    "network.add_layer(3)\n",
    "\n",
    "print(network.predict(X_test))\n",
    "print(network.fit(X_test, y_test, criterion))"
   ]
  }
 ],
 "metadata": {
  "kernelspec": {
   "display_name": "Python 3.10.4 64-bit",
   "language": "python",
   "name": "python3"
  },
  "language_info": {
   "codemirror_mode": {
    "name": "ipython",
    "version": 3
   },
   "file_extension": ".py",
   "mimetype": "text/x-python",
   "name": "python",
   "nbconvert_exporter": "python",
   "pygments_lexer": "ipython3",
   "version": "3.10.4"
  },
  "orig_nbformat": 4,
  "vscode": {
   "interpreter": {
    "hash": "e96b7987e83db2bb51693718935e9a4c90615288c60e4ac5255cd193dc13706d"
   }
  }
 },
 "nbformat": 4,
 "nbformat_minor": 2
}
