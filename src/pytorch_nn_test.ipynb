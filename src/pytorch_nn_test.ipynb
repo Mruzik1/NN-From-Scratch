{
 "cells": [
  {
   "cell_type": "code",
   "execution_count": 207,
   "metadata": {},
   "outputs": [],
   "source": [
    "import torch\n",
    "torch.set_printoptions(precision=17)"
   ]
  },
  {
   "cell_type": "code",
   "execution_count": 208,
   "metadata": {},
   "outputs": [
    {
     "data": {
      "text/plain": [
       "(torch.Size([6, 4]), torch.Size([4, 1]))"
      ]
     },
     "execution_count": 208,
     "metadata": {},
     "output_type": "execute_result"
    }
   ],
   "source": [
    "W1 = torch.tensor([[ 0.4679, -0.2049, -0.7409,  0.3618,  1.9199, -0.2254],\n",
    "                [-0.3417,  0.3040, -0.6890, -1.1267, -0.2858, -1.0935]], requires_grad=True)\n",
    "W2 = torch.tensor([[ 0.3559, -0.6866, -0.4934,  0.2415],\n",
    "                [-1.1109,  0.0915, -2.3169, -0.2168],\n",
    "                [-0.9138, -0.6581,  0.0780,  0.5258],\n",
    "                [-0.4880,  1.1914, -0.8140, -0.7360],\n",
    "                [-1.4032,  0.0360, -0.0635,  0.6756],\n",
    "                [-0.0978,  1.8446, -1.1845,  1.3835]], requires_grad=True)\n",
    "W3 = torch.tensor([[2.2082], [-0.6380],  [0.4617],  [0.2674]], requires_grad=True)\n",
    "\n",
    "B1 = torch.zeros((6), requires_grad=True)\n",
    "B2 = torch.zeros((4), requires_grad=True)\n",
    "B3 = torch.zeros((1), requires_grad=True)\n",
    "W2.shape, W3.shape"
   ]
  },
  {
   "cell_type": "code",
   "execution_count": 209,
   "metadata": {},
   "outputs": [],
   "source": [
    "X = torch.tensor([[1, 0], [0, 1], [0, 0], [1, 1.]], requires_grad=True)\n",
    "y = torch.FloatTensor([1, 1, 0, 0]).unsqueeze(dim=1)\n",
    "\n",
    "loss_fn = torch.nn.L1Loss()"
   ]
  },
  {
   "cell_type": "code",
   "execution_count": 210,
   "metadata": {},
   "outputs": [
    {
     "name": "stdout",
     "output_type": "stream",
     "text": [
      "0) Pytorch NN loss: 0.42873257398605347\n",
      "torch.Size([2, 6]) torch.Size([6, 4]) torch.Size([4, 1])\n"
     ]
    }
   ],
   "source": [
    "for i in range(100):\n",
    "    linear1 = X@W1 + B1\n",
    "    linear2 = linear1@W2 + B2\n",
    "    activation1 = torch.where(linear2 > 0, linear2, 0)\n",
    "    linear3 = activation1@W3 + B3\n",
    "    activation2 = 1/(1+torch.exp(-linear3))\n",
    "\n",
    "    loss = torch.mean(torch.abs(activation2-y))\n",
    "    if not i%10:\n",
    "        print(f'{i}) Pytorch NN loss: {loss}')\n",
    "    loss.backward()\n",
    "\n",
    "    with torch.inference_mode():\n",
    "        W1 -= 0.1*W1.grad\n",
    "        B1 -= 0.1*B1.grad\n",
    "        W2 -= 0.1*W2.grad\n",
    "        B2 -= 0.1*B2.grad\n",
    "        W3 -= 0.1*W3.grad\n",
    "        B3 -= 0.1*B3.grad"
   ]
  }
 ],
 "metadata": {
  "kernelspec": {
   "display_name": "Python 3.10.4 64-bit",
   "language": "python",
   "name": "python3"
  },
  "language_info": {
   "codemirror_mode": {
    "name": "ipython",
    "version": 3
   },
   "file_extension": ".py",
   "mimetype": "text/x-python",
   "name": "python",
   "nbconvert_exporter": "python",
   "pygments_lexer": "ipython3",
   "version": "3.10.4"
  },
  "orig_nbformat": 4,
  "vscode": {
   "interpreter": {
    "hash": "e96b7987e83db2bb51693718935e9a4c90615288c60e4ac5255cd193dc13706d"
   }
  }
 },
 "nbformat": 4,
 "nbformat_minor": 2
}
